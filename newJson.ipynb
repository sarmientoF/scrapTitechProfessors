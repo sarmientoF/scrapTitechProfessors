{
 "cells": [
  {
   "cell_type": "code",
   "execution_count": 7,
   "metadata": {},
   "outputs": [],
   "source": [
    "import json\n",
    "\n",
    "listOfFiles = [\"json/list_chem25494.json\", \n",
    "\"json/list_eps25359.json\",  \n",
    "\"json/list_mech26180_2.json\",\n",
    "\"json/list_sc_26181.json\",  \n",
    "\"json/list-ee26238.json\",   \n",
    "\"json/list_ict26182_2.json\",\n",
    "\"json/list-iee26523-2.json\",\n",
    "\"json/list-mat26105.json\",  \n",
    "\"json/list_cap_26183.json\", \n",
    "\"json/list_is25357_2.json\", \n",
    "\"json/list-cs26592.json\",   \n",
    "\"json/list-ai26593.json\",   \n",
    "\"json/list_bio26393.json\",  \n",
    "\"json/list_arch25660.json\", \n",
    "\"json/list_udbe26288.json\", \n",
    "\"json/list_cv26184.json\",   \n",
    "\"json/list-gedes26106.json\",\n",
    "\"json/list_shs25588_2.json\",\n",
    "\"json/list-isc26164.json\",  \n",
    "\"json/list-tim26166.json\",  \n",
    "\"json/list-ene26107.json\",  \n",
    "\"json/list-esd26550.json\",  \n",
    "\"json/list_hcsbe_26394.json\",\n",
    "\"json/list_ne26139.json\"]"
   ]
  },
  {
   "cell_type": "code",
   "execution_count": 3,
   "metadata": {},
   "outputs": [],
   "source": [
    "def loadFile(file):\n",
    "  with open(file, 'r') as json_file:\n",
    "    data = json.load(json_file)\n",
    "  return data"
   ]
  },
  {
   "cell_type": "code",
   "execution_count": 11,
   "metadata": {
    "tags": []
   },
   "outputs": [],
   "source": [
    "for file in listOfFiles:\n",
    "    data = loadFile(file)\n",
    "    path = \"mJson/\" + file.split(\"/\")[1]\n",
    "    newJson(data[\"data\"], path)"
   ]
  },
  {
   "cell_type": "code",
   "execution_count": null,
   "metadata": {},
   "outputs": [],
   "source": []
  },
  {
   "cell_type": "code",
   "execution_count": null,
   "metadata": {},
   "outputs": [],
   "source": []
  },
  {
   "cell_type": "code",
   "execution_count": 8,
   "metadata": {},
   "outputs": [],
   "source": [
    "def newJson(professors, path):\n",
    "    allPro = {}\n",
    "    allPro[\"data\"] = []\n",
    "    pro = {}\n",
    "    count = 0\n",
    "    for professor in professors:\n",
    "        d = proAttributes(professor)\n",
    "        if(d != {\n",
    "        \"urls\": [],\n",
    "        \"selections\": []\n",
    "      }):\n",
    "            pro[\"index\"] = count\n",
    "            pro[\"attributes\"] = d\n",
    "            allPro[\"data\"].append(pro)\n",
    "            pro = {}\n",
    "            count += 1\n",
    "    with open(path, 'w') as outfile:\n",
    "        json.dump(allPro, outfile)"
   ]
  },
  {
   "cell_type": "code",
   "execution_count": null,
   "metadata": {},
   "outputs": [],
   "source": []
  },
  {
   "cell_type": "code",
   "execution_count": null,
   "metadata": {},
   "outputs": [],
   "source": []
  },
  {
   "cell_type": "code",
   "execution_count": 9,
   "metadata": {},
   "outputs": [],
   "source": [
    "def proAttributes(professor): \n",
    "    count = True\n",
    "    d = {}\n",
    "    d[\"urls\"] = []\n",
    "    d[\"selections\"] = []\n",
    "    item = {}\n",
    "    for key in professor:\n",
    "        if(professor[key]):\n",
    "            if(\"url\" in key):\n",
    "                d[\"urls\"].append(professor[key])\n",
    "            elif(\"selection\" in key):\n",
    "                if(count):\n",
    "                    item[\"name\"] = professor[key]\n",
    "                else:\n",
    "                    item[\"code\"] = professor[key]\n",
    "                    d[\"selections\"].append(item)\n",
    "                    item = {}\n",
    "                count = not count\n",
    "            elif(\"selection\" not in key and \"level_0\" not in key and \"index\" not in key and \"Unnamed\" not in key ):\n",
    "                d[key] = professor[key]\n",
    "    return d"
   ]
  },
  {
   "cell_type": "code",
   "execution_count": null,
   "metadata": {},
   "outputs": [],
   "source": []
  }
 ],
 "metadata": {
  "kernelspec": {
   "name": "python3",
   "display_name": "Python 3.9.1 64-bit",
   "metadata": {
    "interpreter": {
     "hash": "aee8b7b246df8f9039afb4144a1f6fd8d2ca17a180786b69acc140d282b71a49"
    }
   }
  },
  "language_info": {
   "codemirror_mode": {
    "name": "ipython",
    "version": 3
   },
   "file_extension": ".py",
   "mimetype": "text/x-python",
   "name": "python",
   "nbconvert_exporter": "python",
   "pygments_lexer": "ipython3",
   "version": "3.9.1-final"
  }
 },
 "nbformat": 4,
 "nbformat_minor": 4
}